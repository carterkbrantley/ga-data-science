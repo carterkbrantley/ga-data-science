{
 "cells": [
  {
   "cell_type": "code",
   "execution_count": 336,
   "metadata": {
    "collapsed": true
   },
   "outputs": [],
   "source": [
    "import pandas as pd \n",
    "import matplotlib as mpl\n",
    "import matplotlib.pyplot as plt\n",
    "import matplotlib\n",
    "import numpy as np"
   ]
  },
  {
   "cell_type": "code",
   "execution_count": 337,
   "metadata": {
    "collapsed": false
   },
   "outputs": [],
   "source": [
    "player_cut = pd.read_csv('Player - Cut.csv')"
   ]
  },
  {
   "cell_type": "code",
   "execution_count": 338,
   "metadata": {
    "collapsed": false
   },
   "outputs": [],
   "source": [
    "player_hand_off = pd.read_csv('Player - Hand Off.csv')"
   ]
  },
  {
   "cell_type": "code",
   "execution_count": 339,
   "metadata": {
    "collapsed": false
   },
   "outputs": [],
   "source": [
    "player_isolation = pd.read_csv('Player - Isolation.csv')"
   ]
  },
  {
   "cell_type": "code",
   "execution_count": 340,
   "metadata": {
    "collapsed": false
   },
   "outputs": [],
   "source": [
    "player_off_screen = pd.read_csv('Player - Off Screens.csv')"
   ]
  },
  {
   "cell_type": "code",
   "execution_count": 341,
   "metadata": {
    "collapsed": false
   },
   "outputs": [],
   "source": [
    "player_pnr_bh = pd.read_csv('Player - PicknRoll Ball Handler.csv')"
   ]
  },
  {
   "cell_type": "code",
   "execution_count": 342,
   "metadata": {
    "collapsed": false
   },
   "outputs": [],
   "source": [
    "player_pnr_rm = pd.read_csv('Player - PicknRoll Roll Man.csv')"
   ]
  },
  {
   "cell_type": "code",
   "execution_count": 343,
   "metadata": {
    "collapsed": false
   },
   "outputs": [],
   "source": [
    "player_post_up = pd.read_csv('Player - Post Up.csv')"
   ]
  },
  {
   "cell_type": "code",
   "execution_count": 344,
   "metadata": {
    "collapsed": false
   },
   "outputs": [],
   "source": [
    "player_spot_up = pd.read_csv('Player - Spot Up.csv')"
   ]
  },
  {
   "cell_type": "code",
   "execution_count": 345,
   "metadata": {
    "collapsed": false
   },
   "outputs": [],
   "source": [
    "player_transition = pd.read_csv('Player - Transition.csv')"
   ]
  },
  {
   "cell_type": "code",
   "execution_count": 346,
   "metadata": {
    "collapsed": false
   },
   "outputs": [],
   "source": [
    "team_cut = pd.read_csv('Team - Cut.csv')"
   ]
  },
  {
   "cell_type": "code",
   "execution_count": 347,
   "metadata": {
    "collapsed": false
   },
   "outputs": [],
   "source": [
    "team_hand_off = pd.read_csv('Team - Hand Off.csv')"
   ]
  },
  {
   "cell_type": "code",
   "execution_count": 348,
   "metadata": {
    "collapsed": false
   },
   "outputs": [],
   "source": [
    "team_isloations = pd.read_csv('Team - Isolations.csv')"
   ]
  },
  {
   "cell_type": "code",
   "execution_count": 349,
   "metadata": {
    "collapsed": false
   },
   "outputs": [],
   "source": [
    "team_off_screens = pd.read_csv('Team - Off Screens.csv')"
   ]
  },
  {
   "cell_type": "code",
   "execution_count": 350,
   "metadata": {
    "collapsed": false
   },
   "outputs": [],
   "source": [
    "team_pnr_bh = pd.read_csv('Team - PicknRoll Ball Handler.csv')"
   ]
  },
  {
   "cell_type": "code",
   "execution_count": 351,
   "metadata": {
    "collapsed": false
   },
   "outputs": [],
   "source": [
    "team_pnr_rm = pd.read_csv('Team - PicknRoll Roll Man.csv')"
   ]
  },
  {
   "cell_type": "code",
   "execution_count": 352,
   "metadata": {
    "collapsed": false
   },
   "outputs": [],
   "source": [
    "team_post_up = pd.read_csv('Team - Post Up.csv')"
   ]
  },
  {
   "cell_type": "code",
   "execution_count": 353,
   "metadata": {
    "collapsed": false
   },
   "outputs": [],
   "source": [
    "team_spot_up = pd.read_csv('Team - Spot Up.csv')"
   ]
  },
  {
   "cell_type": "code",
   "execution_count": 354,
   "metadata": {
    "collapsed": false
   },
   "outputs": [],
   "source": [
    "team_put_backs = pd.read_csv('Team - Put Backs.csv')"
   ]
  },
  {
   "cell_type": "code",
   "execution_count": 355,
   "metadata": {
    "collapsed": false
   },
   "outputs": [
    {
     "name": "stdout",
     "output_type": "stream",
     "text": [
      "                      Team  GP  Poss    Freq   PPP   PTS  FGM   FGA   FG%  \\\n",
      "0       Washington Wizards  82  1693  18.90%  1.10  1864  679  1280  53.0   \n",
      "1         Sacramento Kings  82  1718  18.50%  1.09  1865  714  1263  56.5   \n",
      "2          Houston Rockets  82  1740  19.00%  1.11  1927  699  1315  53.2   \n",
      "3    Golden State Warriors  82  1597  17.50%  1.16  1849  707  1228  57.6   \n",
      "4    Oklahoma City Thunder  82  1476  16.00%  1.13  1672  604  1078  56.0   \n",
      "5           Boston Celtics  82  1514  16.30%  1.10  1669  624  1180  52.9   \n",
      "6           Indiana Pacers  82  1386  15.50%  1.11  1537  572  1042  54.9   \n",
      "7            Atlanta Hawks  82  1313  14.90%  1.12  1468  572  1015  56.4   \n",
      "8             Phoenix Suns  82  1332  14.50%  1.08  1435  539  1006  53.6   \n",
      "9       Philadelphia 76ers  82  1365  15.20%  1.05  1435  535  1058  50.6   \n",
      "10     Cleveland Cavaliers  82  1147  13.20%  1.20  1372  513   869  59.0   \n",
      "11          Denver Nuggets  82  1206  13.40%  1.13  1366  506   914  55.4   \n",
      "12         Milwaukee Bucks  82  1209  13.80%  1.14  1376  518   880  58.9   \n",
      "13  Minnesota Timberwolves  82  1186  13.50%  1.14  1347  499   839  59.5   \n",
      "14           Orlando Magic  82  1197  13.40%  1.11  1327  501   900  55.7   \n",
      "15         Detroit Pistons  82  1184  13.10%  1.08  1277  469   909  51.6   \n",
      "16    New Orleans Pelicans  82  1133  12.80%  1.14  1292  488   881  55.4   \n",
      "17    Los Angeles Clippers  82  1113  12.80%  1.14  1273  459   827  55.5   \n",
      "18  Portland Trail Blazers  82  1120  12.50%  1.05  1176  436   834  52.3   \n",
      "19         Toronto Raptors  82  1002  11.60%  1.21  1213  422   746  56.6   \n",
      "20              Miami Heat  82  1081  12.60%  1.08  1168  457   821  55.7   \n",
      "21           Brooklyn Nets  82  1112  12.60%  1.07  1186  471   857  55.0   \n",
      "22      Los Angeles Lakers  82  1141  12.90%  1.00  1142  426   847  50.3   \n",
      "23       Charlotte Hornets  82   934  10.70%  1.15  1075  385   720  53.5   \n",
      "24       Memphis Grizzlies  82  1002  11.50%  1.06  1065  405   763  53.1   \n",
      "25           Chicago Bulls  82  1055  11.70%  1.00  1050  396   809  48.9   \n",
      "26         New York Knicks  82   976  11.20%  1.02   995  351   745  47.1   \n",
      "27               Utah Jazz  82   903  10.50%  1.14  1026  392   669  58.6   \n",
      "28        Dallas Mavericks  82   840   9.60%  1.15   970  336   661  50.8   \n",
      "29       San Antonio Spurs  82   921  10.80%  1.09  1007  397   734  54.1   \n",
      "\n",
      "    eFG% FT Freq TO Freq SF Freq And One Freq Score Freq  Percentile  \n",
      "0   58.6  16.60%  10.80%  14.60%        3.30%     52.30%        41.4  \n",
      "1   62.2  12.70%  15.80%  10.80%        2.30%     51.20%        34.5  \n",
      "2   60.4  14.90%  12.10%  13.40%        2.80%     51.10%        48.3  \n",
      "3   65.8  10.70%  14.20%   9.50%        1.90%     52.40%        93.1  \n",
      "4   61.2  17.50%  13.50%  14.90%        4.10%     53.40%        65.5  \n",
      "5   58.3  13.20%  11.40%  11.40%        2.60%     51.30%        44.8  \n",
      "6   59.8  15.60%  12.90%  14.10%        3.80%     52.30%        55.2  \n",
      "7   62.3  11.70%  13.90%  10.30%        3.00%     51.60%        58.6  \n",
      "8   59.2  13.60%  13.50%  11.60%        2.70%     50.30%        24.1  \n",
      "9   58.1  12.10%  13.00%  10.30%        2.60%     47.80%        13.8  \n",
      "10  66.1  14.90%  12.40%  13.10%        3.40%     55.40%        96.6  \n",
      "11  59.1  16.10%  11.60%  14.30%        3.50%     54.20%        62.1  \n",
      "12  62.6  16.30%  14.10%  14.70%        3.30%     54.80%        75.9  \n",
      "13  62.2  17.50%  14.90%  15.80%        3.30%     55.50%        69.0  \n",
      "14  60.4  15.50%  12.50%  13.50%        3.30%     53.10%        51.7  \n",
      "15  57.8  14.60%  12.10%  12.40%        3.50%     49.50%        27.6  \n",
      "16  62.0  12.90%  11.80%  10.90%        2.70%     52.30%        79.3  \n",
      "17  62.9  14.80%  13.30%  12.40%        2.40%     52.60%        82.8  \n",
      "18  58.3  13.40%  14.60%  11.50%        2.50%     49.10%        10.3  \n",
      "19  63.4  18.50%  10.70%  15.40%        3.60%     56.70%       100.0  \n",
      "20  59.4  13.70%  13.00%  12.40%        2.70%     52.40%        31.0  \n",
      "21  59.7  11.30%  13.70%  10.30%        2.10%     50.60%        20.7  \n",
      "22  55.7  12.20%  15.10%  11.30%        1.70%     47.40%         3.4  \n",
      "23  60.3  15.30%  10.50%  12.50%        2.90%     53.10%        86.2  \n",
      "24  57.2  14.60%  12.70%  12.10%        3.60%     50.70%        17.2  \n",
      "25  54.3  11.70%  13.30%  10.80%        1.60%     46.80%         0.0  \n",
      "26  53.5  14.50%  11.70%  12.90%        2.80%     46.90%         6.9  \n",
      "27  62.9  15.10%  14.10%  11.60%        3.50%     54.40%        72.4  \n",
      "28  58.3  15.50%   8.00%  13.20%        2.40%     52.40%        89.7  \n",
      "29  58.6  11.50%  11.80%   9.10%        3.10%     50.90%        37.9  \n"
     ]
    }
   ],
   "source": [
    "team_transitions = pd.read_csv('Team - Transitions.csv')\n",
    "print team_transitions"
   ]
  },
  {
   "cell_type": "code",
   "execution_count": 363,
   "metadata": {
    "collapsed": false
   },
   "outputs": [
    {
     "data": {
      "text/html": [
       "<div>\n",
       "<table border=\"1\" class=\"dataframe\">\n",
       "  <thead>\n",
       "    <tr style=\"text-align: right;\">\n",
       "      <th></th>\n",
       "      <th>GP</th>\n",
       "      <th>Poss</th>\n",
       "      <th>PPP</th>\n",
       "      <th>PTS</th>\n",
       "      <th>FGM</th>\n",
       "      <th>FGA</th>\n",
       "      <th>FG%</th>\n",
       "      <th>eFG%</th>\n",
       "      <th>Percentile</th>\n",
       "    </tr>\n",
       "  </thead>\n",
       "  <tbody>\n",
       "    <tr>\n",
       "      <th>GP</th>\n",
       "      <td>NaN</td>\n",
       "      <td>NaN</td>\n",
       "      <td>NaN</td>\n",
       "      <td>NaN</td>\n",
       "      <td>NaN</td>\n",
       "      <td>NaN</td>\n",
       "      <td>NaN</td>\n",
       "      <td>NaN</td>\n",
       "      <td>NaN</td>\n",
       "    </tr>\n",
       "    <tr>\n",
       "      <th>Poss</th>\n",
       "      <td>NaN</td>\n",
       "      <td>1.000000</td>\n",
       "      <td>-0.108179</td>\n",
       "      <td>0.979091</td>\n",
       "      <td>0.975237</td>\n",
       "      <td>0.992804</td>\n",
       "      <td>0.067565</td>\n",
       "      <td>0.211554</td>\n",
       "      <td>-0.126882</td>\n",
       "    </tr>\n",
       "    <tr>\n",
       "      <th>PPP</th>\n",
       "      <td>NaN</td>\n",
       "      <td>-0.108179</td>\n",
       "      <td>1.000000</td>\n",
       "      <td>0.100056</td>\n",
       "      <td>0.028244</td>\n",
       "      <td>-0.153346</td>\n",
       "      <td>0.738903</td>\n",
       "      <td>0.813338</td>\n",
       "      <td>0.967019</td>\n",
       "    </tr>\n",
       "    <tr>\n",
       "      <th>PTS</th>\n",
       "      <td>NaN</td>\n",
       "      <td>0.979091</td>\n",
       "      <td>0.100056</td>\n",
       "      <td>1.000000</td>\n",
       "      <td>0.989380</td>\n",
       "      <td>0.969356</td>\n",
       "      <td>0.220566</td>\n",
       "      <td>0.381505</td>\n",
       "      <td>0.079092</td>\n",
       "    </tr>\n",
       "    <tr>\n",
       "      <th>FGM</th>\n",
       "      <td>NaN</td>\n",
       "      <td>0.975237</td>\n",
       "      <td>0.028244</td>\n",
       "      <td>0.989380</td>\n",
       "      <td>1.000000</td>\n",
       "      <td>0.969210</td>\n",
       "      <td>0.226545</td>\n",
       "      <td>0.360864</td>\n",
       "      <td>0.007635</td>\n",
       "    </tr>\n",
       "    <tr>\n",
       "      <th>FGA</th>\n",
       "      <td>NaN</td>\n",
       "      <td>0.992804</td>\n",
       "      <td>-0.153346</td>\n",
       "      <td>0.969356</td>\n",
       "      <td>0.969210</td>\n",
       "      <td>1.000000</td>\n",
       "      <td>-0.015643</td>\n",
       "      <td>0.152248</td>\n",
       "      <td>-0.168325</td>\n",
       "    </tr>\n",
       "    <tr>\n",
       "      <th>FG%</th>\n",
       "      <td>NaN</td>\n",
       "      <td>0.067565</td>\n",
       "      <td>0.738903</td>\n",
       "      <td>0.220566</td>\n",
       "      <td>0.226545</td>\n",
       "      <td>-0.015643</td>\n",
       "      <td>1.000000</td>\n",
       "      <td>0.865086</td>\n",
       "      <td>0.695231</td>\n",
       "    </tr>\n",
       "    <tr>\n",
       "      <th>eFG%</th>\n",
       "      <td>NaN</td>\n",
       "      <td>0.211554</td>\n",
       "      <td>0.813338</td>\n",
       "      <td>0.381505</td>\n",
       "      <td>0.360864</td>\n",
       "      <td>0.152248</td>\n",
       "      <td>0.865086</td>\n",
       "      <td>1.000000</td>\n",
       "      <td>0.808718</td>\n",
       "    </tr>\n",
       "    <tr>\n",
       "      <th>Percentile</th>\n",
       "      <td>NaN</td>\n",
       "      <td>-0.126882</td>\n",
       "      <td>0.967019</td>\n",
       "      <td>0.079092</td>\n",
       "      <td>0.007635</td>\n",
       "      <td>-0.168325</td>\n",
       "      <td>0.695231</td>\n",
       "      <td>0.808718</td>\n",
       "      <td>1.000000</td>\n",
       "    </tr>\n",
       "  </tbody>\n",
       "</table>\n",
       "</div>"
      ],
      "text/plain": [
       "            GP      Poss       PPP       PTS       FGM       FGA       FG%  \\\n",
       "GP         NaN       NaN       NaN       NaN       NaN       NaN       NaN   \n",
       "Poss       NaN  1.000000 -0.108179  0.979091  0.975237  0.992804  0.067565   \n",
       "PPP        NaN -0.108179  1.000000  0.100056  0.028244 -0.153346  0.738903   \n",
       "PTS        NaN  0.979091  0.100056  1.000000  0.989380  0.969356  0.220566   \n",
       "FGM        NaN  0.975237  0.028244  0.989380  1.000000  0.969210  0.226545   \n",
       "FGA        NaN  0.992804 -0.153346  0.969356  0.969210  1.000000 -0.015643   \n",
       "FG%        NaN  0.067565  0.738903  0.220566  0.226545 -0.015643  1.000000   \n",
       "eFG%       NaN  0.211554  0.813338  0.381505  0.360864  0.152248  0.865086   \n",
       "Percentile NaN -0.126882  0.967019  0.079092  0.007635 -0.168325  0.695231   \n",
       "\n",
       "                eFG%  Percentile  \n",
       "GP               NaN         NaN  \n",
       "Poss        0.211554   -0.126882  \n",
       "PPP         0.813338    0.967019  \n",
       "PTS         0.381505    0.079092  \n",
       "FGM         0.360864    0.007635  \n",
       "FGA         0.152248   -0.168325  \n",
       "FG%         0.865086    0.695231  \n",
       "eFG%        1.000000    0.808718  \n",
       "Percentile  0.808718    1.000000  "
      ]
     },
     "execution_count": 363,
     "metadata": {},
     "output_type": "execute_result"
    }
   ],
   "source": [
    "frame = pd.DataFrame(team_transitions, columns=['Team', 'GP', 'Poss', 'Freq', 'PPP', 'PTS', 'FGM', 'FGA', 'FG%', 'eFG%', 'FT Freq', 'TO Freq', 'SF Freq', 'And One Freq', 'Score Freq', 'Percentile' ])\n",
    "frame.corr()"
   ]
  },
  {
   "cell_type": "code",
   "execution_count": 319,
   "metadata": {
    "collapsed": false
   },
   "outputs": [
    {
     "name": "stdout",
     "output_type": "stream",
     "text": [
      "            GP      Poss       PPP       PTS       FGM       FGA       FG%  \\\n",
      "GP         NaN       NaN       NaN       NaN       NaN       NaN       NaN   \n",
      "Poss       NaN  1.000000  0.012177  0.979091  0.975237  0.992804  0.138577   \n",
      "PPP        NaN  0.012177  1.000000  0.213314  0.178056 -0.003686  0.740527   \n",
      "PTS        NaN  0.979091  0.213314  1.000000  0.989380  0.969356  0.284801   \n",
      "FGM        NaN  0.975237  0.178056  0.989380  1.000000  0.969210  0.325897   \n",
      "FGA        NaN  0.992804 -0.003686  0.969356  0.969210  1.000000  0.087000   \n",
      "FG%        NaN  0.138577  0.740527  0.284801  0.325897  0.087000  1.000000   \n",
      "eFG%       NaN  0.216886  0.850864  0.383282  0.399448  0.187320  0.896355   \n",
      "Percentile NaN -0.049108  0.966051  0.149071  0.109130 -0.063240  0.672183   \n",
      "\n",
      "                eFG%  Percentile  \n",
      "GP               NaN         NaN  \n",
      "Poss        0.216886   -0.049108  \n",
      "PPP         0.850864    0.966051  \n",
      "PTS         0.383282    0.149071  \n",
      "FGM         0.399448    0.109130  \n",
      "FGA         0.187320   -0.063240  \n",
      "FG%         0.896355    0.672183  \n",
      "eFG%        1.000000    0.806630  \n",
      "Percentile  0.806630    1.000000  \n"
     ]
    }
   ],
   "source": [
    "print team_transitions.corr()"
   ]
  },
  {
   "cell_type": "code",
   "execution_count": null,
   "metadata": {
    "collapsed": true
   },
   "outputs": [],
   "source": [
    "def correlation_matrix(df):\n",
    "    import numpy as np\n",
    "    from matplotlib import pyplot as plt\n",
    "    from matplotlib import cm as cm\n",
    "\n",
    "    fig = plt.figure()\n",
    "    ax1 = fig.add_subplot(111)\n",
    "    cmap = cm.get_cmap('jet', 30)\n",
    "    cax = ax1.imshow(team_transitions.corr(), interpolation=\"nearest\", cmap=cmap)\n",
    "    ax1.grid(True)\n",
    "    plt.title('Team - Transition Correlation')\n",
    "    labels=['Team', 'GP', 'Poss', 'Freq', 'PPP', 'PTS', 'FGM', 'FGA', 'FG%', 'eFG%', 'FT Freq', 'TO Freq', 'SF Freq', 'And One Freq', 'Score Freq', 'Percentile',]\n",
    "    ax1.set_xticklabels(labels,fontsize=6)\n",
    "    ax1.set_yticklabels(labels,fontsize=6)\n",
    "    # Add colorbar, make sure to specify tick locations to match desired ticklabels\n",
    "    cbar = fig.colorbar(cax, ticks=[.75,.8,.85,.90,.95,1])\n",
    "    plt.show()\n",
    "\n",
    "correlation_matrix(team_transitions)"
   ]
  },
  {
   "cell_type": "code",
   "execution_count": null,
   "metadata": {
    "collapsed": true
   },
   "outputs": [],
   "source": []
  }
 ],
 "metadata": {
  "kernelspec": {
   "display_name": "Python 2",
   "language": "python",
   "name": "python2"
  },
  "language_info": {
   "codemirror_mode": {
    "name": "ipython",
    "version": 2
   },
   "file_extension": ".py",
   "mimetype": "text/x-python",
   "name": "python",
   "nbconvert_exporter": "python",
   "pygments_lexer": "ipython2",
   "version": "2.7.11"
  }
 },
 "nbformat": 4,
 "nbformat_minor": 0
}
